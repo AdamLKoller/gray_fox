{
 "cells": [
  {
   "attachments": {
    "image.png": {
     "image/png": "[encoded data removed]"
    }
   },
   "cell_type": "markdown",
   "id": "353d30a9",
   "metadata": {},
   "source": [
    "![image.png](attachment:image.png)"
   ]
  },
  {
   "cell_type": "code",
   "execution_count": 83,
   "id": "84d1dada",
   "metadata": {},
   "outputs": [
    {
     "name": "stdout",
     "output_type": "stream",
     "text": [
      "Storing genome...\n",
      "Finding sites... (this may take 2-5 minutes)\n",
      "178698 instances of the GCA.{6}TCG|CGA.{6}TGC pattern covering 0.2419% of the genome\n"
     ]
    }
   ],
   "source": [
    "%%bash\n",
    "\n",
    "python ./scripts/count_cutsites.py"
   ]
  },
  {
   "cell_type": "code",
   "execution_count": 7,
   "id": "8a779bc1",
   "metadata": {},
   "outputs": [
    {
     "name": "stdout",
     "output_type": "stream",
     "text": [
      "Storing genome...\n",
      "Finding sites... (this may take 2-5 minutes)\n",
      "140172 instances of the GCA.{6}TCG|CGA.{6}TGC pattern covering 0.2293% of the genome\n"
     ]
    }
   ],
   "source": [
    "%%bash\n",
    "\n",
    "python ./scripts/count_cutsites.py"
   ]
  },
  {
   "cell_type": "code",
   "execution_count": 1,
   "id": "9b2f34b6",
   "metadata": {},
   "outputs": [
    {
     "data": {
      "text/plain": [
       "7.085567010309278"
      ]
     },
     "execution_count": 1,
     "metadata": {},
     "output_type": "execute_result"
    }
   ],
   "source": [
    "178698/25220"
   ]
  },
  {
   "cell_type": "code",
   "execution_count": 2,
   "id": "5ea9c7dd",
   "metadata": {},
   "outputs": [],
   "source": [
    "import re"
   ]
  },
  {
   "cell_type": "code",
   "execution_count": 64,
   "id": "43806eb5",
   "metadata": {},
   "outputs": [],
   "source": [
    "file = open('../DeerProject/Data/ILL-RAD01_S1_L001_R1_001.fastq')\n",
    "lines = []"
   ]
  },
  {
   "cell_type": "code",
   "execution_count": 65,
   "id": "6a1d6188",
   "metadata": {},
   "outputs": [],
   "source": [
    "i = 0\n",
    "for line in file:\n",
    "    if i % 4 == 1:\n",
    "        lines.append(line.rstrip())\n",
    "    i += 1"
   ]
  },
  {
   "cell_type": "code",
   "execution_count": 74,
   "id": "4a93714c",
   "metadata": {},
   "outputs": [
    {
     "name": "stdout",
     "output_type": "stream",
     "text": [
      "476800\n"
     ]
    }
   ],
   "source": [
    "target_regex = '.[GA].{10}GCA.{6}TCG.{10}C.'\n",
    "count = 0\n",
    "pattern = re.compile(target_regex, re.IGNORECASE)\n",
    "for line in lines[:1000000]:\n",
    "    if re.search(pattern, line):\n",
    "        count += 1\n",
    "print(count)"
   ]
  },
  {
   "cell_type": "code",
   "execution_count": 75,
   "id": "0a7e19d8",
   "metadata": {},
   "outputs": [
    {
     "name": "stdout",
     "output_type": "stream",
     "text": [
      "285134\n"
     ]
    }
   ],
   "source": [
    "target_regex = '.G.{10}GCA.{6}TCG.{10}[CT].'\n",
    "count = 0\n",
    "pattern = re.compile(target_regex, re.IGNORECASE)\n",
    "for line in lines[:1000000]:\n",
    "    if re.search(pattern, line):\n",
    "        count += 1\n",
    "print(count)"
   ]
  },
  {
   "cell_type": "code",
   "execution_count": 76,
   "id": "a9c95803",
   "metadata": {},
   "outputs": [
    {
     "name": "stdout",
     "output_type": "stream",
     "text": [
      "478362\n"
     ]
    }
   ],
   "source": [
    "target_regex = '.[GA].{10}CGA.{6}TGC.{10}C.'\n",
    "count = 0\n",
    "pattern = re.compile(target_regex, re.IGNORECASE)\n",
    "for line in lines[:1000000]:\n",
    "    if re.search(pattern, line):\n",
    "        count += 1\n",
    "print(count)"
   ]
  },
  {
   "cell_type": "code",
   "execution_count": 81,
   "id": "48fc1a71",
   "metadata": {},
   "outputs": [
    {
     "name": "stdout",
     "output_type": "stream",
     "text": [
      "298614\n"
     ]
    }
   ],
   "source": [
    "target_regex = '.G.{10}CGA.{6}TGC.{10}[CT].'\n",
    "count = 0\n",
    "pattern = re.compile(target_regex, re.IGNORECASE)\n",
    "for line in lines[:1000000]:\n",
    "    if re.search(pattern, line):\n",
    "        count += 1\n",
    "print(count)"
   ]
  },
  {
   "cell_type": "markdown",
   "id": "dce57ca8",
   "metadata": {},
   "source": [
    "[GA].{10}GCA.{6}TCG.{10}C|[GA].{10}CGA.{6}TGC.{10}C"
   ]
  },
  {
   "cell_type": "code",
   "execution_count": 85,
   "id": "57123da8",
   "metadata": {},
   "outputs": [],
   "source": [
    "distribution = {}\n",
    "genome = ''.join([line.rstrip() for line in open(filepath)])\n",
    "for base in genome:\n",
    "    try:\n",
    "        distribution[base] += 1\n",
    "    except:\n",
    "        distribution[base] = 0\n",
    "    else:\n",
    "        pass"
   ]
  },
  {
   "cell_type": "code",
   "execution_count": 87,
   "id": "99ac3aa5",
   "metadata": {},
   "outputs": [
    {
     "data": {
      "text/plain": [
       "562048751"
      ]
     },
     "execution_count": 87,
     "metadata": {},
     "output_type": "execute_result"
    }
   ],
   "source": [
    "distribution['C'] + distribution['c']"
   ]
  },
  {
   "cell_type": "code",
   "execution_count": 88,
   "id": "56d4027a",
   "metadata": {},
   "outputs": [
    {
     "data": {
      "text/plain": [
       "557408567"
      ]
     },
     "execution_count": 88,
     "metadata": {},
     "output_type": "execute_result"
    }
   ],
   "source": [
    "distribution['G'] + distribution['g']"
   ]
  },
  {
   "cell_type": "code",
   "execution_count": 89,
   "id": "46cf2bd1",
   "metadata": {},
   "outputs": [
    {
     "data": {
      "text/plain": [
       "770539117"
      ]
     },
     "execution_count": 89,
     "metadata": {},
     "output_type": "execute_result"
    }
   ],
   "source": [
    "distribution['A'] + distribution['a']"
   ]
  },
  {
   "cell_type": "code",
   "execution_count": 90,
   "id": "223f855a",
   "metadata": {
    "scrolled": true
   },
   "outputs": [
    {
     "data": {
      "text/plain": [
       "768787851"
      ]
     },
     "execution_count": 90,
     "metadata": {},
     "output_type": "execute_result"
    }
   ],
   "source": [
    "distribution['T'] + distribution['t']"
   ]
  },
  {
   "cell_type": "code",
   "execution_count": 2,
   "id": "5064c892",
   "metadata": {},
   "outputs": [],
   "source": [
    "filepath = './data/genome/ncbi_dataset/data/GCA_032313775.1/GCA_032313775.1_UCinereo1.0_genomic.fna'\n",
    "genome = ''.join([line.rstrip() for line in open(filepath)])"
   ]
  },
  {
   "cell_type": "code",
   "execution_count": 3,
   "id": "1b3500df",
   "metadata": {},
   "outputs": [
    {
     "data": {
      "text/plain": [
       "2658882457"
      ]
     },
     "execution_count": 3,
     "metadata": {},
     "output_type": "execute_result"
    }
   ],
   "source": [
    "len(genome)"
   ]
  },
  {
   "cell_type": "code",
   "execution_count": 124,
   "id": "b2469293",
   "metadata": {},
   "outputs": [],
   "source": [
    "f = open('./data/2bRAD_validation/validation.fastq', 'w')\n",
    "for count, match in enumerate(matches):\n",
    "    f.write(f'@J00102:28:HTWWLBBXX:1:1101:{count}:1103 1:N:0:NCTTGA bcd=TGTC \\n')\n",
    "    f.write(match.upper() + '\\n')\n",
    "    f.write('+ \\n')\n",
    "    f.write(len(match)*'J' + '\\n')\n",
    "f.close()"
   ]
  },
  {
   "cell_type": "code",
   "execution_count": 1,
   "id": "7668c89d",
   "metadata": {},
   "outputs": [],
   "source": [
    "import os"
   ]
  },
  {
   "cell_type": "code",
   "execution_count": 2,
   "id": "dd4f380e",
   "metadata": {},
   "outputs": [],
   "source": [
    "path = '/home/LC/kollad01/gray_fox/programs/bowtie2-2.5.3-sra-linux-x86_64'\n",
    "path += ':/bin:/usr/local/sbin:/usr/local/bin:/usr/sbin:/usr/bin:/opt/anaconda3/bin' # <- insert current paths into this string\n",
    "path += ':/home/LC/kollad01/gray_fox/programs/2bRAD_denovo'\n",
    "#path += ':/home/LC/kollad01/gray_fox/programs/bowtie2-2.5.3-sra-linux-x86_64'\n",
    "path += ':/home/LC/kollad01/.local/bin'\n",
    "os.environ['PATH'] = path\n",
    "os.environ['WORKDIR'] = './gray_fox'"
   ]
  },
  {
   "cell_type": "code",
   "execution_count": 108,
   "id": "c194d6cf",
   "metadata": {},
   "outputs": [
    {
     "name": "stdout",
     "output_type": "stream",
     "text": [
      "Settings:\n",
      "  Output files: \"./data/genome/genome.*.bt2\"\n",
      "  Line rate: 6 (line is 64 bytes)\n",
      "  Lines per side: 1 (side is 64 bytes)\n",
      "  Offset rate: 4 (one in 16)\n",
      "  FTable chars: 10\n",
      "  Strings: packed\n",
      "  Max bucket size: default\n",
      "  Max bucket size, sqrt multiplier: default\n",
      "  Max bucket size, len divisor: 4\n",
      "  Difference-cover sample period: 1024\n",
      "  Endianness: little\n",
      "  Actual local endianness: little\n",
      "  Sanity checking: disabled\n",
      "  Assertions: disabled\n",
      "  Random seed: 0\n",
      "  Sizeofs: void*:8, int:4, long:8, size_t:8\n",
      "Input files DNA, FASTA:\n",
      "  ./data/genome/ncbi_dataset/data/GCA_032313775.1/GCA_032313775.1_UCinereo1.0_genomic.fna\n"
     ]
    },
    {
     "name": "stderr",
     "output_type": "stream",
     "text": [
      "Building a SMALL index\n"
     ]
    },
    {
     "name": "stdout",
     "output_type": "stream",
     "text": [
      "Reading reference sizes\n",
      "  Time reading reference sizes: 00:00:22\n",
      "Calculating joined length\n",
      "Writing header\n",
      "Reserving space for joined string\n",
      "Joining reference sequences\n",
      "  Time to join reference sequences: 00:00:20\n",
      "bmax according to bmaxDivN setting: 664690910\n",
      "Using parameters --bmax 498518183 --dcv 1024\n",
      "  Doing ahead-of-time memory usage test\n",
      "  Passed!  Constructing with these parameters: --bmax 498518183 --dcv 1024 --packed\n",
      "Constructing suffix-array element generator\n",
      "Building DifferenceCoverSample\n",
      "  Building sPrime\n",
      "  Building sPrimeOrder\n",
      "  V-Sorting samples\n",
      "  V-Sorting samples time: 00:01:28\n",
      "  Allocating rank array\n",
      "  Ranking v-sort output\n",
      "  Ranking v-sort output time: 00:00:24\n",
      "  Invoking Larsson-Sadakane on ranks\n",
      "  Invoking Larsson-Sadakane on ranks time: 00:00:39\n",
      "  Sanity-checking and returning\n",
      "Building samples\n",
      "Reserving space for 12 sample suffixes\n",
      "Generating random suffixes\n",
      "QSorting 12 sample offsets, eliminating duplicates\n",
      "QSorting sample offsets, eliminating duplicates time: 00:00:00\n",
      "Multikey QSorting 12 samples\n",
      "  (Using difference cover)\n",
      "  Multikey QSorting samples time: 00:00:00\n",
      "Calculating bucket sizes\n",
      "Splitting and merging\n",
      "  Splitting and merging time: 00:00:00\n",
      "Split 2, merged 6; iterating...\n",
      "Splitting and merging\n",
      "  Splitting and merging time: 00:00:00\n",
      "Split 1, merged 1; iterating...\n",
      "Splitting and merging\n",
      "  Splitting and merging time: 00:00:00\n",
      "Avg bucket size: 3.32345e+08 (target: 498518182)\n",
      "Converting suffix-array elements to index image\n",
      "Allocating ftab, absorbFtab\n",
      "Entering Ebwt loop\n",
      "Getting block 1 of 8\n",
      "  Reserving size (498518183) for bucket 1\n",
      "  Calculating Z arrays for bucket 1\n",
      "  Entering block accumulator loop for bucket 1:\n",
      "  bucket 1: 10%\n",
      "  bucket 1: 20%\n",
      "  bucket 1: 30%\n",
      "  bucket 1: 40%\n",
      "  bucket 1: 50%\n",
      "  bucket 1: 60%\n",
      "  bucket 1: 70%\n",
      "  bucket 1: 80%\n",
      "  bucket 1: 90%\n",
      "  bucket 1: 100%\n",
      "  Sorting block of length 405616014 for bucket 1\n",
      "  (Using difference cover)\n",
      "  Sorting block time: 00:05:32\n",
      "Returning block of 405616015 for bucket 1\n",
      "Getting block 2 of 8\n",
      "  Reserving size (498518183) for bucket 2\n",
      "  Calculating Z arrays for bucket 2\n",
      "  Entering block accumulator loop for bucket 2:\n",
      "  bucket 2: 10%\n",
      "  bucket 2: 20%\n",
      "  bucket 2: 30%\n",
      "  bucket 2: 40%\n",
      "  bucket 2: 50%\n",
      "  bucket 2: 60%\n",
      "  bucket 2: 70%\n",
      "  bucket 2: 80%\n",
      "  bucket 2: 90%\n",
      "  bucket 2: 100%\n",
      "  Sorting block of length 325593173 for bucket 2\n",
      "  (Using difference cover)\n",
      "  Sorting block time: 00:04:19\n",
      "Returning block of 325593174 for bucket 2\n",
      "Getting block 3 of 8\n",
      "  Reserving size (498518183) for bucket 3\n",
      "  Calculating Z arrays for bucket 3\n",
      "  Entering block accumulator loop for bucket 3:\n",
      "  bucket 3: 10%\n",
      "  bucket 3: 20%\n",
      "  bucket 3: 30%\n",
      "  bucket 3: 40%\n",
      "  bucket 3: 50%\n",
      "  bucket 3: 60%\n",
      "  bucket 3: 70%\n",
      "  bucket 3: 80%\n",
      "  bucket 3: 90%\n",
      "  bucket 3: 100%\n",
      "  Sorting block of length 423068723 for bucket 3\n",
      "  (Using difference cover)\n",
      "  Sorting block time: 00:06:14\n",
      "Returning block of 423068724 for bucket 3\n",
      "Getting block 4 of 8\n",
      "  Reserving size (498518183) for bucket 4\n",
      "  Calculating Z arrays for bucket 4\n",
      "  Entering block accumulator loop for bucket 4:\n",
      "  bucket 4: 10%\n",
      "  bucket 4: 20%\n",
      "  bucket 4: 30%\n",
      "  bucket 4: 40%\n",
      "  bucket 4: 50%\n",
      "  bucket 4: 60%\n",
      "  bucket 4: 70%\n",
      "  bucket 4: 80%\n",
      "  bucket 4: 90%\n",
      "  bucket 4: 100%\n",
      "  Sorting block of length 394652698 for bucket 4\n",
      "  (Using difference cover)\n",
      "  Sorting block time: 00:05:26\n",
      "Returning block of 394652699 for bucket 4\n",
      "Getting block 5 of 8\n",
      "  Reserving size (498518183) for bucket 5\n",
      "  Calculating Z arrays for bucket 5\n",
      "  Entering block accumulator loop for bucket 5:\n",
      "  bucket 5: 10%\n",
      "  bucket 5: 20%\n",
      "  bucket 5: 30%\n",
      "  bucket 5: 40%\n",
      "  bucket 5: 50%\n",
      "  bucket 5: 60%\n",
      "  bucket 5: 70%\n",
      "  bucket 5: 80%\n",
      "  bucket 5: 90%\n",
      "  bucket 5: 100%\n",
      "  Sorting block of length 281581957 for bucket 5\n",
      "  (Using difference cover)\n",
      "  Sorting block time: 00:04:02\n",
      "Returning block of 281581958 for bucket 5\n",
      "Getting block 6 of 8\n",
      "  Reserving size (498518183) for bucket 6\n",
      "  Calculating Z arrays for bucket 6\n",
      "  Entering block accumulator loop for bucket 6:\n",
      "  bucket 6: 10%\n",
      "  bucket 6: 20%\n",
      "  bucket 6: 30%\n",
      "  bucket 6: 40%\n",
      "  bucket 6: 50%\n",
      "  bucket 6: 60%\n",
      "  bucket 6: 70%\n",
      "  bucket 6: 80%\n",
      "  bucket 6: 90%\n",
      "  bucket 6: 100%\n",
      "  Sorting block of length 275963217 for bucket 6\n",
      "  (Using difference cover)\n",
      "  Sorting block time: 00:03:50\n",
      "Returning block of 275963218 for bucket 6\n",
      "Getting block 7 of 8\n",
      "  Reserving size (498518183) for bucket 7\n",
      "  Calculating Z arrays for bucket 7\n",
      "  Entering block accumulator loop for bucket 7:\n",
      "  bucket 7: 10%\n",
      "  bucket 7: 20%\n",
      "  bucket 7: 30%\n",
      "  bucket 7: 40%\n",
      "  bucket 7: 50%\n",
      "  bucket 7: 60%\n",
      "  bucket 7: 70%\n",
      "  bucket 7: 80%\n",
      "  bucket 7: 90%\n",
      "  bucket 7: 100%\n",
      "  Sorting block of length 272131405 for bucket 7\n",
      "  (Using difference cover)\n",
      "  Sorting block time: 00:03:39\n",
      "Returning block of 272131406 for bucket 7\n",
      "Getting block 8 of 8\n",
      "  Reserving size (498518183) for bucket 8\n",
      "  Calculating Z arrays for bucket 8\n",
      "  Entering block accumulator loop for bucket 8:\n",
      "  bucket 8: 10%\n",
      "  bucket 8: 20%\n",
      "  bucket 8: 30%\n",
      "  bucket 8: 40%\n",
      "  bucket 8: 50%\n",
      "  bucket 8: 60%\n",
      "  bucket 8: 70%\n",
      "  bucket 8: 80%\n",
      "  bucket 8: 90%\n",
      "  bucket 8: 100%\n",
      "  Sorting block of length 280156449 for bucket 8\n",
      "  (Using difference cover)\n",
      "  Sorting block time: 00:03:42\n",
      "Returning block of 280156450 for bucket 8\n",
      "Exited Ebwt loop\n",
      "fchr[A]: 0\n",
      "fchr[C]: 770533733\n",
      "fchr[G]: 1332577995\n",
      "fchr[T]: 1889982076\n",
      "fchr[$]: 2658763643\n",
      "Exiting Ebwt::buildToDisk()\n",
      "Returning from initFromVector\n",
      "Wrote 890579935 bytes to primary EBWT file: ./data/genome/genome.1.bt2.tmp\n",
      "Wrote 664690916 bytes to secondary EBWT file: ./data/genome/genome.2.bt2.tmp\n",
      "Re-opening _in1 and _in2 as input streams\n",
      "Returning from Ebwt constructor\n",
      "Headers:\n",
      "    len: 2658763643\n",
      "    bwtLen: 2658763644\n",
      "    sz: 664690911\n",
      "    bwtSz: 664690911\n",
      "    lineRate: 6\n",
      "    offRate: 4\n",
      "    offMask: 0xfffffff0\n",
      "    ftabChars: 10\n",
      "    eftabLen: 20\n",
      "    eftabSz: 80\n",
      "    ftabLen: 1048577\n",
      "    ftabSz: 4194308\n",
      "    offsLen: 166172728\n",
      "    offsSz: 664690912\n",
      "    lineSz: 64\n",
      "    sideSz: 64\n",
      "    sideBwtSz: 48\n",
      "    sideBwtLen: 192\n",
      "    numSides: 13847728\n",
      "    numLines: 13847728\n",
      "    ebwtTotLen: 886254592\n",
      "    ebwtTotSz: 886254592\n",
      "    color: 0\n",
      "    reverse: 0\n",
      "Total time for call to driver() for forward index: 01:00:10\n",
      "Reading reference sizes\n",
      "  Time reading reference sizes: 00:00:16\n",
      "Calculating joined length\n",
      "Writing header\n",
      "Reserving space for joined string\n",
      "Joining reference sequences\n",
      "  Time to join reference sequences: 00:00:20\n",
      "  Time to reverse reference sequence: 00:00:07\n",
      "bmax according to bmaxDivN setting: 664690910\n",
      "Using parameters --bmax 498518183 --dcv 1024\n",
      "  Doing ahead-of-time memory usage test\n",
      "  Passed!  Constructing with these parameters: --bmax 498518183 --dcv 1024 --packed\n",
      "Constructing suffix-array element generator\n",
      "Building DifferenceCoverSample\n",
      "  Building sPrime\n",
      "  Building sPrimeOrder\n",
      "  V-Sorting samples\n",
      "  V-Sorting samples time: 00:01:27\n",
      "  Allocating rank array\n",
      "  Ranking v-sort output\n",
      "  Ranking v-sort output time: 00:00:23\n",
      "  Invoking Larsson-Sadakane on ranks\n",
      "  Invoking Larsson-Sadakane on ranks time: 00:00:39\n",
      "  Sanity-checking and returning\n",
      "Building samples\n",
      "Reserving space for 12 sample suffixes\n",
      "Generating random suffixes\n",
      "QSorting 12 sample offsets, eliminating duplicates\n",
      "QSorting sample offsets, eliminating duplicates time: 00:00:00\n",
      "Multikey QSorting 12 samples\n",
      "  (Using difference cover)\n",
      "  Multikey QSorting samples time: 00:00:00\n",
      "Calculating bucket sizes\n",
      "Splitting and merging\n",
      "  Splitting and merging time: 00:00:00\n",
      "Split 1, merged 6; iterating...\n",
      "Splitting and merging\n",
      "  Splitting and merging time: 00:00:00\n",
      "Split 1, merged 1; iterating...\n",
      "Splitting and merging\n",
      "  Splitting and merging time: 00:00:00\n",
      "Avg bucket size: 3.32345e+08 (target: 498518182)\n",
      "Converting suffix-array elements to index image\n",
      "Allocating ftab, absorbFtab\n",
      "Entering Ebwt loop\n",
      "Getting block 1 of 8\n",
      "  Reserving size (498518183) for bucket 1\n",
      "  Calculating Z arrays for bucket 1\n",
      "  Entering block accumulator loop for bucket 1:\n",
      "  bucket 1: 10%\n",
      "  bucket 1: 20%\n",
      "  bucket 1: 30%\n",
      "  bucket 1: 40%\n",
      "  bucket 1: 50%\n",
      "  bucket 1: 60%\n",
      "  bucket 1: 70%\n",
      "  bucket 1: 80%\n",
      "  bucket 1: 90%\n",
      "  bucket 1: 100%\n",
      "  Sorting block of length 344494191 for bucket 1\n",
      "  (Using difference cover)\n",
      "  Sorting block time: 00:04:32\n",
      "Returning block of 344494192 for bucket 1\n",
      "Getting block 2 of 8\n",
      "  Reserving size (498518183) for bucket 2\n",
      "  Calculating Z arrays for bucket 2\n"
     ]
    },
    {
     "name": "stdout",
     "output_type": "stream",
     "text": [
      "  Entering block accumulator loop for bucket 2:\n",
      "  bucket 2: 10%\n",
      "  bucket 2: 20%\n",
      "  bucket 2: 30%\n",
      "  bucket 2: 40%\n",
      "  bucket 2: 50%\n",
      "  bucket 2: 60%\n",
      "  bucket 2: 70%\n",
      "  bucket 2: 80%\n",
      "  bucket 2: 90%\n",
      "  bucket 2: 100%\n",
      "  Sorting block of length 330515317 for bucket 2\n",
      "  (Using difference cover)\n",
      "  Sorting block time: 00:04:29\n",
      "Returning block of 330515318 for bucket 2\n",
      "Getting block 3 of 8\n",
      "  Reserving size (498518183) for bucket 3\n",
      "  Calculating Z arrays for bucket 3\n",
      "  Entering block accumulator loop for bucket 3:\n",
      "  bucket 3: 10%\n",
      "  bucket 3: 20%\n",
      "  bucket 3: 30%\n",
      "  bucket 3: 40%\n",
      "  bucket 3: 50%\n",
      "  bucket 3: 60%\n",
      "  bucket 3: 70%\n",
      "  bucket 3: 80%\n",
      "  bucket 3: 90%\n",
      "  bucket 3: 100%\n",
      "  Sorting block of length 454008992 for bucket 3\n",
      "  (Using difference cover)\n",
      "  Sorting block time: 00:06:41\n",
      "Returning block of 454008993 for bucket 3\n",
      "Getting block 4 of 8\n",
      "  Reserving size (498518183) for bucket 4\n",
      "  Calculating Z arrays for bucket 4\n",
      "  Entering block accumulator loop for bucket 4:\n",
      "  bucket 4: 10%\n",
      "  bucket 4: 20%\n",
      "  bucket 4: 30%\n",
      "  bucket 4: 40%\n",
      "  bucket 4: 50%\n",
      "  bucket 4: 60%\n",
      "  bucket 4: 70%\n",
      "  bucket 4: 80%\n",
      "  bucket 4: 90%\n",
      "  bucket 4: 100%\n",
      "  Sorting block of length 341253131 for bucket 4\n",
      "  (Using difference cover)\n",
      "  Sorting block time: 00:04:35\n",
      "Returning block of 341253132 for bucket 4\n",
      "Getting block 5 of 8\n",
      "  Reserving size (498518183) for bucket 5\n",
      "  Calculating Z arrays for bucket 5\n",
      "  Entering block accumulator loop for bucket 5:\n",
      "  bucket 5: 10%\n",
      "  bucket 5: 20%\n",
      "  bucket 5: 30%\n",
      "  bucket 5: 40%\n",
      "  bucket 5: 50%\n",
      "  bucket 5: 60%\n",
      "  bucket 5: 70%\n",
      "  bucket 5: 80%\n",
      "  bucket 5: 90%\n",
      "  bucket 5: 100%\n",
      "  Sorting block of length 312920474 for bucket 5\n",
      "  (Using difference cover)\n",
      "  Sorting block time: 00:04:39\n",
      "Returning block of 312920475 for bucket 5\n",
      "Getting block 6 of 8\n",
      "  Reserving size (498518183) for bucket 6\n",
      "  Calculating Z arrays for bucket 6\n",
      "  Entering block accumulator loop for bucket 6:\n",
      "  bucket 6: 10%\n",
      "  bucket 6: 20%\n",
      "  bucket 6: 30%\n",
      "  bucket 6: 40%\n",
      "  bucket 6: 50%\n",
      "  bucket 6: 60%\n",
      "  bucket 6: 70%\n",
      "  bucket 6: 80%\n",
      "  bucket 6: 90%\n",
      "  bucket 6: 100%\n",
      "  Sorting block of length 204366037 for bucket 6\n",
      "  (Using difference cover)\n",
      "  Sorting block time: 00:02:38\n",
      "Returning block of 204366038 for bucket 6\n",
      "Getting block 7 of 8\n",
      "  Reserving size (498518183) for bucket 7\n",
      "  Calculating Z arrays for bucket 7\n",
      "  Entering block accumulator loop for bucket 7:\n",
      "  bucket 7: 10%\n",
      "  bucket 7: 20%\n",
      "  bucket 7: 30%\n",
      "  bucket 7: 40%\n",
      "  bucket 7: 50%\n",
      "  bucket 7: 60%\n",
      "  bucket 7: 70%\n",
      "  bucket 7: 80%\n",
      "  bucket 7: 90%\n",
      "  bucket 7: 100%\n",
      "  Sorting block of length 483408720 for bucket 7\n",
      "  (Using difference cover)\n",
      "  Sorting block time: 00:06:41\n",
      "Returning block of 483408721 for bucket 7\n",
      "Getting block 8 of 8\n",
      "  Reserving size (498518183) for bucket 8\n",
      "  Calculating Z arrays for bucket 8\n",
      "  Entering block accumulator loop for bucket 8:\n",
      "  bucket 8: 10%\n",
      "  bucket 8: 20%\n",
      "  bucket 8: 30%\n",
      "  bucket 8: 40%\n",
      "  bucket 8: 50%\n",
      "  bucket 8: 60%\n",
      "  bucket 8: 70%\n",
      "  bucket 8: 80%\n",
      "  bucket 8: 90%\n",
      "  bucket 8: 100%\n",
      "  Sorting block of length 187796774 for bucket 8\n",
      "  (Using difference cover)\n",
      "  Sorting block time: 00:02:27\n",
      "Returning block of 187796775 for bucket 8\n",
      "Exited Ebwt loop\n",
      "fchr[A]: 0\n",
      "fchr[C]: 770533733\n",
      "fchr[G]: 1332577995\n",
      "fchr[T]: 1889982076\n",
      "fchr[$]: 2658763643\n",
      "Exiting Ebwt::buildToDisk()\n",
      "Returning from initFromVector\n",
      "Wrote 890579935 bytes to primary EBWT file: ./data/genome/genome.rev.1.bt2.tmp\n",
      "Wrote 664690916 bytes to secondary EBWT file: ./data/genome/genome.rev.2.bt2.tmp\n",
      "Re-opening _in1 and _in2 as input streams\n",
      "Returning from Ebwt constructor\n",
      "Headers:\n",
      "    len: 2658763643\n",
      "    bwtLen: 2658763644\n",
      "    sz: 664690911\n",
      "    bwtSz: 664690911\n",
      "    lineRate: 6\n",
      "    offRate: 4\n",
      "    offMask: 0xfffffff0\n",
      "    ftabChars: 10\n",
      "    eftabLen: 20\n",
      "    eftabSz: 80\n",
      "    ftabLen: 1048577\n",
      "    ftabSz: 4194308\n",
      "    offsLen: 166172728\n",
      "    offsSz: 664690912\n",
      "    lineSz: 64\n",
      "    sideSz: 64\n",
      "    sideBwtSz: 48\n",
      "    sideBwtLen: 192\n",
      "    numSides: 13847728\n",
      "    numLines: 13847728\n",
      "    ebwtTotLen: 886254592\n",
      "    ebwtTotSz: 886254592\n",
      "    color: 0\n",
      "    reverse: 1\n",
      "Total time for backward call to driver() for mirror index: 00:59:58\n"
     ]
    },
    {
     "name": "stderr",
     "output_type": "stream",
     "text": [
      "Renaming ./data/genome/genome.3.bt2.tmp to ./data/genome/genome.3.bt2\n",
      "Renaming ./data/genome/genome.4.bt2.tmp to ./data/genome/genome.4.bt2\n",
      "Renaming ./data/genome/genome.1.bt2.tmp to ./data/genome/genome.1.bt2\n",
      "Renaming ./data/genome/genome.2.bt2.tmp to ./data/genome/genome.2.bt2\n",
      "Renaming ./data/genome/genome.rev.1.bt2.tmp to ./data/genome/genome.rev.1.bt2\n",
      "Renaming ./data/genome/genome.rev.2.bt2.tmp to ./data/genome/genome.rev.2.bt2\n"
     ]
    },
    {
     "name": "stdout",
     "output_type": "stream",
     "text": [
      "CPU times: user 807 ms, sys: 186 ms, total: 993 ms\n",
      "Wall time: 2h 7s\n"
     ]
    }
   ],
   "source": [
    "%%time\n",
    "%%bash\n",
    "bowtie2-build ./data/genome/ncbi_dataset/data/GCA_032313775.1/GCA_032313775.1_UCinereo1.0_genomic.fna ./data/genome/genome -p 40"
   ]
  },
  {
   "cell_type": "code",
   "execution_count": 117,
   "id": "8aeff23a",
   "metadata": {},
   "outputs": [
    {
     "name": "stdout",
     "output_type": "stream",
     "text": [
      "CPU times: user 4.66 ms, sys: 7.94 ms, total: 12.6 ms\n",
      "Wall time: 15.7 ms\n"
     ]
    }
   ],
   "source": [
    "%%time\n",
    "%%bash\n",
    "cd ./data/2bRAD_validation\n",
    "2bRAD_bowtie2_launch.pl \"\\.fastq$\" ../genome/genome > maps"
   ]
  },
  {
   "cell_type": "code",
   "execution_count": 5,
   "id": "9a7bb63d",
   "metadata": {
    "scrolled": true
   },
   "outputs": [
    {
     "name": "stderr",
     "output_type": "stream",
     "text": [
      "177955 reads; of these:\n",
      "  177955 (100.00%) were unpaired; of these:\n",
      "    0 (0.00%) aligned 0 times\n",
      "    136588 (76.75%) aligned exactly 1 time\n",
      "    41367 (23.25%) aligned >1 times\n",
      "100.00% overall alignment rate\n"
     ]
    },
    {
     "name": "stdout",
     "output_type": "stream",
     "text": [
      "CPU times: user 16.3 ms, sys: 13 µs, total: 16.3 ms\n",
      "Wall time: 20.3 s\n"
     ]
    }
   ],
   "source": [
    "%%time\n",
    "%%bash\n",
    "cd ./data/2bRAD_validation\n",
    "bash maps"
   ]
  },
  {
   "cell_type": "code",
   "execution_count": 6,
   "id": "9f98aa1b",
   "metadata": {},
   "outputs": [
    {
     "data": {
      "text/plain": [
       "20000.0"
      ]
     },
     "execution_count": 6,
     "metadata": {},
     "output_type": "execute_result"
    }
   ],
   "source": [
    "140000/7"
   ]
  },
  {
   "cell_type": "markdown",
   "id": "f4c29711",
   "metadata": {},
   "source": [
    "Try with 36 base pairs"
   ]
  },
  {
   "cell_type": "markdown",
   "id": "01380728",
   "metadata": {},
   "source": [
    "Is there a way to check for bias. Some sites only generating in one direction. If they have a C, can generate both ways. Else only one way. Pick some reads with high coverage, "
   ]
  }
 ],
 "metadata": {
  "kernelspec": {
   "display_name": "CS150 (Python3.10)",
   "language": "python",
   "name": "cs150"
  },
  "language_info": {
   "codemirror_mode": {
    "name": "ipython",
    "version": 3
   },
   "file_extension": ".py",
   "mimetype": "text/x-python",
   "name": "python",
   "nbconvert_exporter": "python",
   "pygments_lexer": "ipython3",
   "version": "3.10.9"
  }
 },
 "nbformat": 4,
 "nbformat_minor": 5
}
